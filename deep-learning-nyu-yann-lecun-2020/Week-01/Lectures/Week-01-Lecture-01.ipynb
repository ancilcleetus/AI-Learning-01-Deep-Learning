{
 "cells": [
  {
   "cell_type": "markdown",
   "id": "b3dfb3d2",
   "metadata": {},
   "source": [
    "# Week 01 Lecture 01: History, Motivation, and Evolution of Deep Learning"
   ]
  }
 ],
 "metadata": {
  "kernelspec": {
   "display_name": "yann_env38",
   "language": "python",
   "name": "yann_env38"
  },
  "language_info": {
   "codemirror_mode": {
    "name": "ipython",
    "version": 3
   },
   "file_extension": ".py",
   "mimetype": "text/x-python",
   "name": "python",
   "nbconvert_exporter": "python",
   "pygments_lexer": "ipython3",
   "version": "3.8.10"
  }
 },
 "nbformat": 4,
 "nbformat_minor": 5
}
