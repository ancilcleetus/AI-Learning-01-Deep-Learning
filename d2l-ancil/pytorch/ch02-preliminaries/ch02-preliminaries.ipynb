{
 "cells": [
  {
   "cell_type": "markdown",
   "id": "c4e7804b",
   "metadata": {},
   "source": [
    "# Chapter 02: Preliminaries"
   ]
  }
 ],
 "metadata": {
  "kernelspec": {
   "display_name": "d2l_env38",
   "language": "python",
   "name": "d2l_env38"
  },
  "language_info": {
   "codemirror_mode": {
    "name": "ipython",
    "version": 3
   },
   "file_extension": ".py",
   "mimetype": "text/x-python",
   "name": "python",
   "nbconvert_exporter": "python",
   "pygments_lexer": "ipython3",
   "version": "3.8.10"
  }
 },
 "nbformat": 4,
 "nbformat_minor": 5
}
