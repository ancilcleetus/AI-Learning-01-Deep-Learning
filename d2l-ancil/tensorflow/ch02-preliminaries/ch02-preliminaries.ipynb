{
 "cells": [
  {
   "cell_type": "markdown",
   "id": "0ac1367f",
   "metadata": {},
   "source": [
    "# Chapter 02: Preliminaries"
   ]
  },
  {
   "cell_type": "markdown",
   "id": "fe3c01b8",
   "metadata": {},
   "source": [
    "## 2.1 Data Manipulation"
   ]
  },
  {
   "cell_type": "markdown",
   "id": "6cef2d67",
   "metadata": {},
   "source": [
    "### 2.1.1 Getting Started"
   ]
  },
  {
   "cell_type": "code",
   "execution_count": 1,
   "id": "b6db0e91",
   "metadata": {},
   "outputs": [
    {
     "name": "stderr",
     "output_type": "stream",
     "text": [
      "2022-04-01 18:47:00.055299: W tensorflow/stream_executor/platform/default/dso_loader.cc:64] Could not load dynamic library 'libcudart.so.11.0'; dlerror: libcudart.so.11.0: cannot open shared object file: No such file or directory\n",
      "2022-04-01 18:47:00.055343: I tensorflow/stream_executor/cuda/cudart_stub.cc:29] Ignore above cudart dlerror if you do not have a GPU set up on your machine.\n",
      "2022-04-01 18:47:09.128066: W tensorflow/stream_executor/platform/default/dso_loader.cc:64] Could not load dynamic library 'libcuda.so.1'; dlerror: libcuda.so.1: cannot open shared object file: No such file or directory\n",
      "2022-04-01 18:47:09.128128: W tensorflow/stream_executor/cuda/cuda_driver.cc:269] failed call to cuInit: UNKNOWN ERROR (303)\n",
      "2022-04-01 18:47:09.128169: I tensorflow/stream_executor/cuda/cuda_diagnostics.cc:156] kernel driver does not appear to be running on this host (ancil-Aspire-E5-571): /proc/driver/nvidia/version does not exist\n",
      "2022-04-01 18:47:09.151617: I tensorflow/core/platform/cpu_feature_guard.cc:151] This TensorFlow binary is optimized with oneAPI Deep Neural Network Library (oneDNN) to use the following CPU instructions in performance-critical operations:  AVX2 FMA\n",
      "To enable them in other operations, rebuild TensorFlow with the appropriate compiler flags.\n"
     ]
    },
    {
     "name": "stdout",
     "output_type": "stream",
     "text": [
      "x: \n",
      "[ 0.  1.  2.  3.  4.  5.  6.  7.  8.  9. 10. 11.]\n",
      "x.shape = (12,)\n",
      "tf.size(x) = 12\n",
      "tf.reshape(x, (3, 4)): \n",
      "[[ 0.  1.  2.  3.]\n",
      " [ 4.  5.  6.  7.]\n",
      " [ 8.  9. 10. 11.]]\n",
      "tf.reshape(x, (3, -1)): \n",
      "[[ 0.  1.  2.  3.]\n",
      " [ 4.  5.  6.  7.]\n",
      " [ 8.  9. 10. 11.]]\n",
      "tf.reshape(x, (-1, 4)): \n",
      "[[ 0.  1.  2.  3.]\n",
      " [ 4.  5.  6.  7.]\n",
      " [ 8.  9. 10. 11.]]\n",
      "tf.zeros((2, 3, 4)): \n",
      "[[[0. 0. 0. 0.]\n",
      "  [0. 0. 0. 0.]\n",
      "  [0. 0. 0. 0.]]\n",
      "\n",
      " [[0. 0. 0. 0.]\n",
      "  [0. 0. 0. 0.]\n",
      "  [0. 0. 0. 0.]]]\n",
      "tf.ones((2, 3, 4)): \n",
      "[[[1. 1. 1. 1.]\n",
      "  [1. 1. 1. 1.]\n",
      "  [1. 1. 1. 1.]]\n",
      "\n",
      " [[1. 1. 1. 1.]\n",
      "  [1. 1. 1. 1.]\n",
      "  [1. 1. 1. 1.]]]\n",
      "tf.random.normal(shape = [2, 3, 4]): \n",
      "[[[ 0.5839058   2.4547038  -1.1301433   1.2154073 ]\n",
      "  [-0.31525     1.280252   -0.96664333 -0.80689776]\n",
      "  [ 0.8099281  -0.09745093  1.1704886  -0.27800894]]\n",
      "\n",
      " [[-1.6139616   1.8401304  -1.4841629  -0.56467324]\n",
      "  [-0.8258288   0.61258006  0.9799425  -1.7867311 ]\n",
      "  [ 1.2026368   1.5435642   1.6035181   0.07866979]]]\n",
      "x: \n",
      "[[1 2 3 4]\n",
      " [2 4 1 3]\n",
      " [4 2 3 1]]\n"
     ]
    }
   ],
   "source": [
    "import tensorflow as tf\n",
    "\n",
    "# torch.arange(n) => creates a vector of evenly spaced values\n",
    "# starting at 0 (included) and ending at n (not included)\n",
    "x = tf.range(12, dtype=tf.float32)\n",
    "print(f\"x: \\n{x}\")\n",
    "\n",
    "# tensorʼs shape (the length along each axis)\n",
    "print(f\"x.shape = {x.shape}\")\n",
    "\n",
    "# total number of elements in a tensor\n",
    "print(f\"tf.size(x) = {tf.size(x)}\")\n",
    "\n",
    "# reshape() => change the shape of a tensor\n",
    "# without altering either the number of elements or their values\n",
    "# row vector to matrix of shape (3, 4)\n",
    "print(f\"tf.reshape(x, (3, 4)): \\n{tf.reshape(x, (3, 4))}\")\n",
    "\n",
    "# Reshaping by manually specifying every dimension is unnecessary.\n",
    "# Tensors can automatically work out one dimension given the rest.\n",
    "# We invoke this capability by placing -1 for the dimension that we would like tensors to automatically infer.\n",
    "print(f\"tf.reshape(x, (3, -1)): \\n{tf.reshape(x, (3, -1))}\")\n",
    "print(f\"tf.reshape(x, (-1, 4)): \\n{tf.reshape(x, (-1, 4))}\")\n",
    "\n",
    "# matrices initialized either with zeros, ones, or numbers randomly sampled from a specific distribution\n",
    "print(f\"tf.zeros((2, 3, 4)): \\n{tf.zeros((2, 3, 4))}\")\n",
    "print(f\"tf.ones((2, 3, 4)): \\n{tf.ones((2, 3, 4))}\")\n",
    "\n",
    "# Each of the elements randomly sampled from a standard Gaussian\n",
    "# (normal) distribution with a mean of 0 and a standard deviation of 1\n",
    "print(f\"tf.random.normal(shape = [2, 3, 4]): \\n{tf.random.normal(shape = [2, 3, 4])}\")\n",
    "\n",
    "# Specify exact elements by supplying a list to torch.tensor()\n",
    "x = tf.constant([[1, 2, 3, 4], [2, 4, 1, 3], [4, 2, 3, 1]])\n",
    "print(f\"x: \\n{x}\")"
   ]
  },
  {
   "cell_type": "code",
   "execution_count": null,
   "id": "c0417ddc",
   "metadata": {},
   "outputs": [],
   "source": []
  }
 ],
 "metadata": {
  "kernelspec": {
   "display_name": "tf_env38",
   "language": "python",
   "name": "tf_env38"
  },
  "language_info": {
   "codemirror_mode": {
    "name": "ipython",
    "version": 3
   },
   "file_extension": ".py",
   "mimetype": "text/x-python",
   "name": "python",
   "nbconvert_exporter": "python",
   "pygments_lexer": "ipython3",
   "version": "3.8.10"
  }
 },
 "nbformat": 4,
 "nbformat_minor": 5
}
