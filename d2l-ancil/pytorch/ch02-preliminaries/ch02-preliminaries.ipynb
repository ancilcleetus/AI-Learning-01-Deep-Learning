{
 "cells": [
  {
   "cell_type": "markdown",
   "id": "c4e7804b",
   "metadata": {},
   "source": [
    "# Chapter 02: Preliminaries"
   ]
  },
  {
   "cell_type": "markdown",
   "id": "f2cb41a6",
   "metadata": {},
   "source": [
    "## 2.1 Data Manipulation"
   ]
  },
  {
   "cell_type": "markdown",
   "id": "02e6eb21",
   "metadata": {},
   "source": [
    "#### `Tensor`s are similar to `ndarray`s in NumPy with some differences.\n",
    "1. `Tensor`s support GPUs to accelerate computation whereas `ndarray`s support only CPU computation.\n",
    "2. `Tensor`s support automatic differentiation.\n",
    "\n",
    "#### These properties make the `Tensor` class suitable for Deep Learning."
   ]
  },
  {
   "cell_type": "markdown",
   "id": "38fc9d9b",
   "metadata": {},
   "source": [
    "### 2.1.1 Getting Started"
   ]
  }
 ],
 "metadata": {
  "kernelspec": {
   "display_name": "d2l_env38",
   "language": "python",
   "name": "d2l_env38"
  },
  "language_info": {
   "codemirror_mode": {
    "name": "ipython",
    "version": 3
   },
   "file_extension": ".py",
   "mimetype": "text/x-python",
   "name": "python",
   "nbconvert_exporter": "python",
   "pygments_lexer": "ipython3",
   "version": "3.8.10"
  }
 },
 "nbformat": 4,
 "nbformat_minor": 5
}
