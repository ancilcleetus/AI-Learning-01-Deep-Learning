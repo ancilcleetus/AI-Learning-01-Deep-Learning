{
 "cells": [
  {
   "cell_type": "markdown",
   "id": "c4e7804b",
   "metadata": {},
   "source": [
    "# Chapter 02: Preliminaries"
   ]
  },
  {
   "cell_type": "markdown",
   "id": "f2cb41a6",
   "metadata": {},
   "source": [
    "## 2.1 Data Manipulation"
   ]
  },
  {
   "cell_type": "markdown",
   "id": "5b08264b",
   "metadata": {},
   "source": [
    "#### `Tensor`s are similar to `ndarray`s in NumPy with some differences.\n",
    "1. `Tensor`s support GPUs to accelerate computation whereas `ndarray`s support only CPU computation.\n",
    "2. `Tensor`s support automatic differentiation.\n",
    "\n",
    "#### These properties make the `Tensor` class suitable for Deep Learning."
   ]
  },
  {
   "cell_type": "markdown",
   "id": "1ff9dab1",
   "metadata": {},
   "source": [
    "### 2.1.1 Getting Started"
   ]
  },
  {
   "cell_type": "markdown",
   "id": "202eb018",
   "metadata": {},
   "source": [
    "#### A tensor represents a (possibly multi-dimensional) array of numerical values. With one axis, a tensor is called a *vector*. With two axes, a tensor is called a *matrix*. With $k > 2$ axes, we drop the specialized names and just refer to the object as a $k^{th}$ order tensor."
   ]
  },
  {
   "cell_type": "code",
   "execution_count": 8,
   "id": "a86c4052",
   "metadata": {},
   "outputs": [
    {
     "name": "stdout",
     "output_type": "stream",
     "text": [
      "x: \n",
      "tensor([ 0.,  1.,  2.,  3.,  4.,  5.,  6.,  7.,  8.,  9., 10., 11.])\n",
      "x.shape = torch.Size([12])\n",
      "x.numel() = 12\n",
      "x.reshape(3, 4): \n",
      "tensor([[ 0.,  1.,  2.,  3.],\n",
      "        [ 4.,  5.,  6.,  7.],\n",
      "        [ 8.,  9., 10., 11.]])\n",
      "x.reshape(3, -1): \n",
      "tensor([[ 0.,  1.,  2.,  3.],\n",
      "        [ 4.,  5.,  6.,  7.],\n",
      "        [ 8.,  9., 10., 11.]])\n",
      "x.reshape(-1, 4): \n",
      "tensor([[ 0.,  1.,  2.,  3.],\n",
      "        [ 4.,  5.,  6.,  7.],\n",
      "        [ 8.,  9., 10., 11.]])\n",
      "torch.zeros((2, 3, 4)): \n",
      "tensor([[[0., 0., 0., 0.],\n",
      "         [0., 0., 0., 0.],\n",
      "         [0., 0., 0., 0.]],\n",
      "\n",
      "        [[0., 0., 0., 0.],\n",
      "         [0., 0., 0., 0.],\n",
      "         [0., 0., 0., 0.]]])\n",
      "torch.ones((2, 3, 4)): \n",
      "tensor([[[1., 1., 1., 1.],\n",
      "         [1., 1., 1., 1.],\n",
      "         [1., 1., 1., 1.]],\n",
      "\n",
      "        [[1., 1., 1., 1.],\n",
      "         [1., 1., 1., 1.],\n",
      "         [1., 1., 1., 1.]]])\n",
      "torch.randn((2, 3, 4)): \n",
      "tensor([[[ 1.0919, -0.3940, -0.8393,  0.9235],\n",
      "         [-0.7803, -2.4219, -2.4531, -1.6257],\n",
      "         [ 2.6056,  0.5089,  1.8906, -2.4101]],\n",
      "\n",
      "        [[-0.7394, -0.0710,  1.0274, -1.3527],\n",
      "         [ 1.0874, -0.8242,  0.7317, -1.3102],\n",
      "         [-0.2328, -0.9728, -0.8208,  1.2470]]])\n",
      "x: \n",
      "tensor([[1, 2, 3, 4],\n",
      "        [2, 4, 1, 3],\n",
      "        [4, 2, 3, 1]])\n"
     ]
    }
   ],
   "source": [
    "import torch\n",
    "\n",
    "# torch.arange(n) => creates a vector of evenly spaced values\n",
    "# starting at 0 (included) and ending at n (not included)\n",
    "x = torch.arange(12, dtype=torch.float32)\n",
    "print(f\"x: \\n{x}\")\n",
    "\n",
    "# tensorʼs shape (the length along each axis)\n",
    "print(f\"x.shape = {x.shape}\")\n",
    "\n",
    "# total number of elements in a tensor\n",
    "print(f\"x.numel() = {x.numel()}\")\n",
    "\n",
    "# reshape() => change the shape of a tensor\n",
    "# without altering either the number of elements or their values\n",
    "# row vector to matrix of shape (3, 4)\n",
    "print(f\"x.reshape(3, 4): \\n{x.reshape(3, 4)}\")\n",
    "\n",
    "# Reshaping by manually specifying every dimension is unnecessary.\n",
    "# Tensors can automatically work out one dimension given the rest.\n",
    "# We invoke this capability by placing -1 for the dimension that we would like tensors to automatically infer.\n",
    "print(f\"x.reshape(3, -1): \\n{x.reshape(3, -1)}\")\n",
    "print(f\"x.reshape(-1, 4): \\n{x.reshape(-1, 4)}\")\n",
    "\n",
    "# matrices initialized either with zeros, ones, or numbers randomly sampled from a specific distribution\n",
    "print(f\"torch.zeros((2, 3, 4)): \\n{torch.zeros((2, 3, 4))}\")\n",
    "print(f\"torch.ones((2, 3, 4)): \\n{torch.ones((2, 3, 4))}\")\n",
    "\n",
    "# Each of the elements randomly sampled from a standard Gaussian\n",
    "# (normal) distribution with a mean of 0 and a standard deviation of 1\n",
    "print(f\"torch.randn((2, 3, 4)): \\n{torch.randn((2, 3, 4))}\")\n",
    "\n",
    "# Specify exact elements by supplying a list to torch.tensor()\n",
    "x = torch.tensor([[1, 2, 3, 4], [2, 4, 1, 3], [4, 2, 3, 1]])\n",
    "print(f\"x: \\n{x}\")"
   ]
  },
  {
   "cell_type": "code",
   "execution_count": null,
   "id": "3e9d3bad",
   "metadata": {},
   "outputs": [],
   "source": []
  }
 ],
 "metadata": {
  "kernelspec": {
   "display_name": "d2l_env38",
   "language": "python",
   "name": "d2l_env38"
  },
  "language_info": {
   "codemirror_mode": {
    "name": "ipython",
    "version": 3
   },
   "file_extension": ".py",
   "mimetype": "text/x-python",
   "name": "python",
   "nbconvert_exporter": "python",
   "pygments_lexer": "ipython3",
   "version": "3.8.10"
  }
 },
 "nbformat": 4,
 "nbformat_minor": 5
}
