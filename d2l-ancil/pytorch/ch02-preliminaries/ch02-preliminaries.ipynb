{
 "cells": [
  {
   "cell_type": "markdown",
   "id": "c4e7804b",
   "metadata": {},
   "source": [
    "# Chapter 02: Preliminaries"
   ]
  },
  {
   "cell_type": "markdown",
   "id": "f2cb41a6",
   "metadata": {},
   "source": [
    "## 2.1 Data Manipulation"
   ]
  },
  {
   "cell_type": "markdown",
   "id": "5b08264b",
   "metadata": {},
   "source": [
    "#### `Tensor`s are similar to `ndarray`s in NumPy with some differences.\n",
    "1. `Tensor`s support GPUs to accelerate computation whereas `ndarray`s support only CPU computation.\n",
    "2. `Tensor`s support automatic differentiation.\n",
    "\n",
    "#### These properties make the `Tensor` class suitable for Deep Learning."
   ]
  },
  {
   "cell_type": "markdown",
   "id": "1ff9dab1",
   "metadata": {},
   "source": [
    "### 2.1.1 Getting Started"
   ]
  },
  {
   "cell_type": "markdown",
   "id": "202eb018",
   "metadata": {},
   "source": [
    "#### A tensor represents a (possibly multi-dimensional) array of numerical values. With one axis, a tensor is called a *vector*. With two axes, a tensor is called a *matrix*. With $k > 2$ axes, we drop the specialized names and just refer to the object as a $k^{th}$ order tensor."
   ]
  },
  {
   "cell_type": "code",
   "execution_count": 6,
   "id": "a86c4052",
   "metadata": {},
   "outputs": [
    {
     "name": "stdout",
     "output_type": "stream",
     "text": [
      "tensor([ 0.,  1.,  2.,  3.,  4.,  5.,  6.,  7.,  8.,  9., 10., 11.])\n",
      "torch.Size([12])\n",
      "12\n",
      "tensor([[ 0.,  1.,  2.,  3.],\n",
      "        [ 4.,  5.,  6.,  7.],\n",
      "        [ 8.,  9., 10., 11.]])\n"
     ]
    }
   ],
   "source": [
    "import torch\n",
    "\n",
    "# torch.arange(n) => creates a vector of evenly spaced values\n",
    "# starting at 0 (included) and ending at n (not included)\n",
    "x = torch.arange(12, dtype=torch.float32)\n",
    "print(x)\n",
    "\n",
    "# tensorʼs shape (the length along each axis)\n",
    "print(x.shape)\n",
    "\n",
    "# total number of elements in a tensor\n",
    "print(x.numel())\n",
    "\n",
    "# reshape() => change the shape of a tensor\n",
    "# without altering either the number of elements or their values\n",
    "# row vector to matrix of shape (3, 4)\n",
    "x = x.reshape(3, 4)\n",
    "print(x)"
   ]
  }
 ],
 "metadata": {
  "kernelspec": {
   "display_name": "d2l_env38",
   "language": "python",
   "name": "d2l_env38"
  },
  "language_info": {
   "codemirror_mode": {
    "name": "ipython",
    "version": 3
   },
   "file_extension": ".py",
   "mimetype": "text/x-python",
   "name": "python",
   "nbconvert_exporter": "python",
   "pygments_lexer": "ipython3",
   "version": "3.8.10"
  }
 },
 "nbformat": 4,
 "nbformat_minor": 5
}
